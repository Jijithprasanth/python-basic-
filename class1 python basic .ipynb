{
 "cells": [
  {
   "cell_type": "code",
   "execution_count": 75,
   "id": "af1f7838",
   "metadata": {},
   "outputs": [],
   "source": [
    "import this"
   ]
  },
  {
   "cell_type": "code",
   "execution_count": 2,
   "id": "493ea679",
   "metadata": {},
   "outputs": [
    {
     "name": "stdout",
     "output_type": "stream",
     "text": [
      " this is my first program\n"
     ]
    }
   ],
   "source": [
    "print (\" this is my first program\")"
   ]
  },
  {
   "cell_type": "code",
   "execution_count": 3,
   "id": "6b18f978",
   "metadata": {},
   "outputs": [
    {
     "data": {
      "text/plain": [
       "5"
      ]
     },
     "execution_count": 3,
     "metadata": {},
     "output_type": "execute_result"
    }
   ],
   "source": [
    "len (\"alien\")"
   ]
  },
  {
   "cell_type": "code",
   "execution_count": 4,
   "id": "53526e34",
   "metadata": {},
   "outputs": [
    {
     "data": {
      "text/plain": [
       "0.6"
      ]
     },
     "execution_count": 4,
     "metadata": {},
     "output_type": "execute_result"
    }
   ],
   "source": [
    "3/5 (NUMERIC CONCEPTS APPLICABLE)"
   ]
  },
  {
   "cell_type": "code",
   "execution_count": null,
   "id": "81d0fd2d",
   "metadata": {},
   "outputs": [],
   "source": [
    "TWO WAY PROGRAMMING ARE DONE IN PYTHON \n",
    " 1. SCRIPT BASED CONCEPT \n",
    " 2. OOPS BASED CONCEPT (MODULAR CODING)\n"
   ]
  },
  {
   "cell_type": "code",
   "execution_count": 5,
   "id": "9df2bf32",
   "metadata": {},
   "outputs": [
    {
     "data": {
      "text/plain": [
       "3"
      ]
     },
     "execution_count": 5,
     "metadata": {},
     "output_type": "execute_result"
    }
   ],
   "source": [
    "1+2 (to restore these syntax you need to store this )"
   ]
  },
  {
   "cell_type": "code",
   "execution_count": null,
   "id": "31c684b7",
   "metadata": {},
   "outputs": [],
   "source": [
    "a = 10"
   ]
  },
  {
   "cell_type": "code",
   "execution_count": null,
   "id": "9b42f429",
   "metadata": {},
   "outputs": [],
   "source": [
    "a is nothing but a variable that stores the integer 10\n",
    "only in python we are able to set integer in the variable,\n",
    "whereas in other programing lang we need to define or set the int, varchar, char method to store. And also in python dont need to \n",
    "give dataset types in the coding mode "
   ]
  },
  {
   "cell_type": "code",
   "execution_count": 10,
   "id": "df2e6b94",
   "metadata": {},
   "outputs": [],
   "source": [
    "a = 10 \n"
   ]
  },
  {
   "cell_type": "code",
   "execution_count": 12,
   "id": "f7c00eba",
   "metadata": {},
   "outputs": [
    {
     "data": {
      "text/plain": [
       "int"
      ]
     },
     "execution_count": 12,
     "metadata": {},
     "output_type": "execute_result"
    }
   ],
   "source": [
    "type(a)"
   ]
  },
  {
   "cell_type": "code",
   "execution_count": 17,
   "id": "8443677d",
   "metadata": {},
   "outputs": [],
   "source": [
    "b = 48.67"
   ]
  },
  {
   "cell_type": "code",
   "execution_count": 18,
   "id": "020e2cff",
   "metadata": {},
   "outputs": [
    {
     "data": {
      "text/plain": [
       "float"
      ]
     },
     "execution_count": 18,
     "metadata": {},
     "output_type": "execute_result"
    }
   ],
   "source": [
    "type (b)"
   ]
  },
  {
   "cell_type": "code",
   "execution_count": 19,
   "id": "3bb39a86",
   "metadata": {},
   "outputs": [],
   "source": [
    "c = \"jijith\" (for string either you need double or single quotes)"
   ]
  },
  {
   "cell_type": "code",
   "execution_count": 20,
   "id": "069845b9",
   "metadata": {},
   "outputs": [
    {
     "data": {
      "text/plain": [
       "str"
      ]
     },
     "execution_count": 20,
     "metadata": {},
     "output_type": "execute_result"
    }
   ],
   "source": [
    "type (c)"
   ]
  },
  {
   "cell_type": "code",
   "execution_count": 23,
   "id": "8b204a02",
   "metadata": {},
   "outputs": [],
   "source": [
    "d = 5 +6j"
   ]
  },
  {
   "cell_type": "code",
   "execution_count": 24,
   "id": "73de4903",
   "metadata": {},
   "outputs": [
    {
     "data": {
      "text/plain": [
       "(5+6j)"
      ]
     },
     "execution_count": 24,
     "metadata": {},
     "output_type": "execute_result"
    }
   ],
   "source": [
    "d   (notation hear for imaginary numbers are j 5 is real numbers and 6j are imaginary number (complex numbers))"
   ]
  },
  {
   "cell_type": "code",
   "execution_count": 26,
   "id": "3371e809",
   "metadata": {},
   "outputs": [
    {
     "data": {
      "text/plain": [
       "complex"
      ]
     },
     "execution_count": 26,
     "metadata": {},
     "output_type": "execute_result"
    }
   ],
   "source": [
    "type (d)"
   ]
  },
  {
   "cell_type": "code",
   "execution_count": 27,
   "id": "6f3c750b",
   "metadata": {},
   "outputs": [
    {
     "ename": "SyntaxError",
     "evalue": "invalid syntax (360785142.py, line 1)",
     "output_type": "error",
     "traceback": [
      "\u001b[1;36m  Cell \u001b[1;32mIn[27], line 1\u001b[1;36m\u001b[0m\n\u001b[1;33m    if your program is wrong, the python will hit you error. learn to debugging the program\u001b[0m\n\u001b[1;37m            ^\u001b[0m\n\u001b[1;31mSyntaxError\u001b[0m\u001b[1;31m:\u001b[0m invalid syntax\n"
     ]
    }
   ],
   "source": [
    "if your program is wrong, the python will hit you error. learn to debugging the program\n",
    "first read out the error and fix bug it. debugging youself which is best wayto learn  \n"
   ]
  },
  {
   "cell_type": "code",
   "execution_count": 29,
   "id": "d261e709",
   "metadata": {},
   "outputs": [],
   "source": [
    "g= True"
   ]
  },
  {
   "cell_type": "code",
   "execution_count": 30,
   "id": "af109776",
   "metadata": {},
   "outputs": [
    {
     "data": {
      "text/plain": [
       "bool"
      ]
     },
     "execution_count": 30,
     "metadata": {},
     "output_type": "execute_result"
    }
   ],
   "source": [
    "type (g)"
   ]
  },
  {
   "cell_type": "code",
   "execution_count": 31,
   "id": "5d84f112",
   "metadata": {},
   "outputs": [
    {
     "ename": "SyntaxError",
     "evalue": "starred assignment target must be in a list or tuple (3538723190.py, line 1)",
     "output_type": "error",
     "traceback": [
      "\u001b[1;36m  Cell \u001b[1;32mIn[31], line 1\u001b[1;36m\u001b[0m\n\u001b[1;33m    *a = 7\u001b[0m\n\u001b[1;37m    ^\u001b[0m\n\u001b[1;31mSyntaxError\u001b[0m\u001b[1;31m:\u001b[0m starred assignment target must be in a list or tuple\n"
     ]
    }
   ],
   "source": [
    "*a = 7"
   ]
  },
  {
   "cell_type": "code",
   "execution_count": 33,
   "id": "d58523b9",
   "metadata": {},
   "outputs": [],
   "source": [
    "_a = 45 (this underscore variables will work but the stared varaibles not work and only used in list or tuple )"
   ]
  },
  {
   "cell_type": "code",
   "execution_count": 34,
   "id": "c4b90d55",
   "metadata": {},
   "outputs": [
    {
     "data": {
      "text/plain": [
       "int"
      ]
     },
     "execution_count": 34,
     "metadata": {},
     "output_type": "execute_result"
    }
   ],
   "source": [
    "type (a)"
   ]
  },
  {
   "cell_type": "code",
   "execution_count": 36,
   "id": "f5a3ca4e",
   "metadata": {},
   "outputs": [],
   "source": [
    "_a = 45"
   ]
  },
  {
   "cell_type": "code",
   "execution_count": 38,
   "id": "2629f2a2",
   "metadata": {},
   "outputs": [
    {
     "data": {
      "text/plain": [
       "45"
      ]
     },
     "execution_count": 38,
     "metadata": {},
     "output_type": "execute_result"
    }
   ],
   "source": [
    "_a (becuase, hear the recent int values are taken in pythin not the entire row values)"
   ]
  },
  {
   "cell_type": "code",
   "execution_count": 39,
   "id": "51ca0397",
   "metadata": {},
   "outputs": [],
   "source": [
    "a = 5663\n",
    "b = \"jijith\"\n",
    "c = 5 + 9j\n",
    "d = True \n",
    "e = 326.98"
   ]
  },
  {
   "cell_type": "code",
   "execution_count": 40,
   "id": "e8573987",
   "metadata": {},
   "outputs": [
    {
     "data": {
      "text/plain": [
       "5663"
      ]
     },
     "execution_count": 40,
     "metadata": {},
     "output_type": "execute_result"
    }
   ],
   "source": [
    "a"
   ]
  },
  {
   "cell_type": "code",
   "execution_count": 41,
   "id": "68bdf019",
   "metadata": {},
   "outputs": [
    {
     "data": {
      "text/plain": [
       "True"
      ]
     },
     "execution_count": 41,
     "metadata": {},
     "output_type": "execute_result"
    }
   ],
   "source": [
    "d"
   ]
  },
  {
   "cell_type": "code",
   "execution_count": 42,
   "id": "58b2b722",
   "metadata": {},
   "outputs": [],
   "source": [
    "a1 = 100"
   ]
  },
  {
   "cell_type": "code",
   "execution_count": 44,
   "id": "c399fc2e",
   "metadata": {},
   "outputs": [
    {
     "data": {
      "text/plain": [
       "5763"
      ]
     },
     "execution_count": 44,
     "metadata": {},
     "output_type": "execute_result"
    }
   ],
   "source": [
    "a + a1"
   ]
  },
  {
   "cell_type": "code",
   "execution_count": 45,
   "id": "db940e1f",
   "metadata": {},
   "outputs": [
    {
     "data": {
      "text/plain": [
       "5563"
      ]
     },
     "execution_count": 45,
     "metadata": {},
     "output_type": "execute_result"
    }
   ],
   "source": [
    "a - a1"
   ]
  },
  {
   "cell_type": "code",
   "execution_count": 46,
   "id": "7822b8ca",
   "metadata": {},
   "outputs": [],
   "source": [
    "a,b,c,d,e = 255, \"jijth\", 4 +6j, False, 56.23 (hear you also map yourn datasets in the single line itself and also you need to give\n",
    "                                              5 variables and 5 datasets otherwise ity through you an errorc.)"
   ]
  },
  {
   "cell_type": "code",
   "execution_count": 47,
   "id": "46b4e58b",
   "metadata": {},
   "outputs": [
    {
     "data": {
      "text/plain": [
       "False"
      ]
     },
     "execution_count": 47,
     "metadata": {},
     "output_type": "execute_result"
    }
   ],
   "source": [
    "d"
   ]
  },
  {
   "cell_type": "markdown",
   "id": "9ae3dcd5",
   "metadata": {},
   "source": [
    "c"
   ]
  },
  {
   "cell_type": "code",
   "execution_count": 49,
   "id": "860016d3",
   "metadata": {},
   "outputs": [
    {
     "data": {
      "text/plain": [
       "complex"
      ]
     },
     "execution_count": 49,
     "metadata": {},
     "output_type": "execute_result"
    }
   ],
   "source": [
    "type (c)"
   ]
  },
  {
   "cell_type": "code",
   "execution_count": 50,
   "id": "0e698a53",
   "metadata": {},
   "outputs": [
    {
     "data": {
      "text/plain": [
       "6.0"
      ]
     },
     "execution_count": 50,
     "metadata": {},
     "output_type": "execute_result"
    }
   ],
   "source": [
    "c.imag    (Inbuilt funchion are available just simply wrote variable name and put . tab you will able to acess the inbiult funchions according to the datatype )"
   ]
  },
  {
   "cell_type": "code",
   "execution_count": 51,
   "id": "04222ca6",
   "metadata": {},
   "outputs": [
    {
     "data": {
      "text/plain": [
       "4.0"
      ]
     },
     "execution_count": 51,
     "metadata": {},
     "output_type": "execute_result"
    }
   ],
   "source": [
    "c.real"
   ]
  },
  {
   "cell_type": "code",
   "execution_count": 52,
   "id": "7594151b",
   "metadata": {},
   "outputs": [
    {
     "data": {
      "text/plain": [
       "<function complex.conjugate()>"
      ]
     },
     "execution_count": 52,
     "metadata": {},
     "output_type": "execute_result"
    }
   ],
   "source": [
    "c.conjugate"
   ]
  },
  {
   "cell_type": "code",
   "execution_count": 54,
   "id": "cd355b28",
   "metadata": {},
   "outputs": [
    {
     "data": {
      "text/plain": [
       "<function str.capitalize()>"
      ]
     },
     "execution_count": 54,
     "metadata": {},
     "output_type": "execute_result"
    }
   ],
   "source": [
    "b.capitalize"
   ]
  },
  {
   "cell_type": "code",
   "execution_count": 55,
   "id": "1e8e017c",
   "metadata": {},
   "outputs": [],
   "source": [
    "a = \"jijth\""
   ]
  },
  {
   "cell_type": "code",
   "execution_count": 57,
   "id": "dc1947bd",
   "metadata": {},
   "outputs": [
    {
     "data": {
      "text/plain": [
       "'jijth 4'"
      ]
     },
     "execution_count": 57,
     "metadata": {},
     "output_type": "execute_result"
    }
   ],
   "source": [
    "a + \" 4\" (this is how you want to concetenate the strings )"
   ]
  },
  {
   "cell_type": "code",
   "execution_count": 58,
   "id": "f5910478",
   "metadata": {},
   "outputs": [
    {
     "data": {
      "text/plain": [
       "'jijth4'"
      ]
     },
     "execution_count": 58,
     "metadata": {},
     "output_type": "execute_result"
    }
   ],
   "source": [
    "a + str(4) {this method is also applicable type casting or otherwise put data function in front of ints }"
   ]
  },
  {
   "cell_type": "code",
   "execution_count": 59,
   "id": "e5f3be1f",
   "metadata": {},
   "outputs": [
    {
     "data": {
      "text/plain": [
       "2"
      ]
     },
     "execution_count": 59,
     "metadata": {},
     "output_type": "execute_result"
    }
   ],
   "source": [
    "True + True  (True = 1 and False = 0 )"
   ]
  },
  {
   "cell_type": "code",
   "execution_count": 61,
   "id": "b9a22d48",
   "metadata": {},
   "outputs": [
    {
     "data": {
      "text/plain": [
       "1"
      ]
     },
     "execution_count": 61,
     "metadata": {},
     "output_type": "execute_result"
    }
   ],
   "source": [
    "True - False"
   ]
  },
  {
   "cell_type": "code",
   "execution_count": 62,
   "id": "c3291739",
   "metadata": {},
   "outputs": [
    {
     "data": {
      "text/plain": [
       "2"
      ]
     },
     "execution_count": 62,
     "metadata": {},
     "output_type": "execute_result"
    }
   ],
   "source": [
    "1 + True "
   ]
  },
  {
   "cell_type": "code",
   "execution_count": 63,
   "id": "a8bf457a",
   "metadata": {},
   "outputs": [
    {
     "name": "stdout",
     "output_type": "stream",
     "text": [
      "jijith prasanth is learning python \n"
     ]
    },
    {
     "data": {
      "text/plain": [
       "'jijith prasanth is learning python '"
      ]
     },
     "execution_count": 63,
     "metadata": {},
     "output_type": "execute_result"
    }
   ],
   "source": [
    "input () (you can also use user input function to write the codes )"
   ]
  },
  {
   "cell_type": "code",
   "execution_count": 64,
   "id": "7f46e8ce",
   "metadata": {},
   "outputs": [
    {
     "name": "stdout",
     "output_type": "stream",
     "text": [
      "jijth\n"
     ]
    }
   ],
   "source": [
    "a = input()   (now, this a variable is holduing the input datas for the refernce )"
   ]
  },
  {
   "cell_type": "code",
   "execution_count": 65,
   "id": "e2c6e40e",
   "metadata": {},
   "outputs": [],
   "source": [
    "a = '55'"
   ]
  },
  {
   "cell_type": "code",
   "execution_count": 66,
   "id": "972a82a6",
   "metadata": {},
   "outputs": [
    {
     "data": {
      "text/plain": [
       "'55'"
      ]
     },
     "execution_count": 66,
     "metadata": {},
     "output_type": "execute_result"
    }
   ],
   "source": [
    "a"
   ]
  },
  {
   "cell_type": "code",
   "execution_count": 67,
   "id": "aa699f33",
   "metadata": {},
   "outputs": [],
   "source": [
    "b = 45"
   ]
  },
  {
   "cell_type": "code",
   "execution_count": 68,
   "id": "a440aa06",
   "metadata": {},
   "outputs": [
    {
     "ename": "TypeError",
     "evalue": "can only concatenate str (not \"int\") to str",
     "output_type": "error",
     "traceback": [
      "\u001b[1;31m---------------------------------------------------------------------------\u001b[0m",
      "\u001b[1;31mTypeError\u001b[0m                                 Traceback (most recent call last)",
      "Cell \u001b[1;32mIn[68], line 1\u001b[0m\n\u001b[1;32m----> 1\u001b[0m a \u001b[38;5;241m+\u001b[39m b\n",
      "\u001b[1;31mTypeError\u001b[0m: can only concatenate str (not \"int\") to str"
     ]
    }
   ],
   "source": [
    "a + b"
   ]
  },
  {
   "cell_type": "code",
   "execution_count": 70,
   "id": "c7f09789",
   "metadata": {},
   "outputs": [
    {
     "ename": "SyntaxError",
     "evalue": "invalid syntax. Perhaps you forgot a comma? (1218905896.py, line 1)",
     "output_type": "error",
     "traceback": [
      "\u001b[1;36m  Cell \u001b[1;32mIn[70], line 1\u001b[1;36m\u001b[0m\n\u001b[1;33m    int(a) + b (type casting is must when yuo deal with this kind scenerio, you cant conc the int function like string  )\u001b[0m\n\u001b[1;37m                ^\u001b[0m\n\u001b[1;31mSyntaxError\u001b[0m\u001b[1;31m:\u001b[0m invalid syntax. Perhaps you forgot a comma?\n"
     ]
    }
   ],
   "source": [
    "int(a) + b (type casting is must when yuo deal with this kind scenerio, you cant conc the int function like string  )"
   ]
  },
  {
   "cell_type": "code",
   "execution_count": 76,
   "id": "109a79ec",
   "metadata": {},
   "outputs": [
    {
     "data": {
      "text/plain": [
       "100"
      ]
     },
     "execution_count": 76,
     "metadata": {},
     "output_type": "execute_result"
    }
   ],
   "source": [
    "int (a) + b"
   ]
  },
  {
   "cell_type": "code",
   "execution_count": null,
   "id": "146d4bae",
   "metadata": {},
   "outputs": [],
   "source": []
  }
 ],
 "metadata": {
  "kernelspec": {
   "display_name": "Python 3 (ipykernel)",
   "language": "python",
   "name": "python3"
  },
  "language_info": {
   "codemirror_mode": {
    "name": "ipython",
    "version": 3
   },
   "file_extension": ".py",
   "mimetype": "text/x-python",
   "name": "python",
   "nbconvert_exporter": "python",
   "pygments_lexer": "ipython3",
   "version": "3.11.5"
  }
 },
 "nbformat": 4,
 "nbformat_minor": 5
}
